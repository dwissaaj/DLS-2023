{
 "cells": [
  {
   "cell_type": "code",
   "execution_count": null,
   "metadata": {
    "collapsed": true,
    "pycharm": {
     "is_executing": true
    }
   },
   "outputs": [],
   "source": [
    "import pandas as pd"
   ]
  },
  {
   "cell_type": "code",
   "execution_count": 5,
   "outputs": [],
   "source": [
    "df = pd.read_parquet('../File Data/data.parquet')"
   ],
   "metadata": {
    "collapsed": false
   }
  },
  {
   "cell_type": "code",
   "execution_count": 7,
   "outputs": [
    {
     "data": {
      "text/plain": "         VendorID tpep_pickup_datetime tpep_dropoff_datetime  passenger_count  \\\n0               2  2021-09-01 06:04:34   2021-09-01 06:15:28              2.0   \n1               2  2021-09-01 06:26:31   2021-09-01 06:32:39              1.0   \n2               2  2021-09-01 06:36:15   2021-09-01 06:40:30              2.0   \n3               1  2021-09-01 00:00:15   2021-09-01 00:18:34              2.0   \n4               2  2021-09-01 00:44:54   2021-09-01 00:56:33              1.0   \n...           ...                  ...                   ...              ...   \n2963788         2  2021-09-30 23:09:00   2021-09-30 23:29:00              NaN   \n2963789         2  2021-09-30 23:39:01   2021-09-30 23:55:44              NaN   \n2963790         1  2021-09-30 23:46:16   2021-10-01 00:19:02              NaN   \n2963791         2  2021-09-30 23:29:00   2021-09-30 23:54:00              NaN   \n2963792         2  2021-09-30 23:00:39   2021-09-30 23:22:41              NaN   \n\n         trip_distance  RatecodeID store_and_fwd_flag  PULocationID  \\\n0                 4.90         1.0                  N            87   \n1                 1.13         1.0                  N           162   \n2                 1.37         1.0                  N           141   \n3                 6.50         1.0                  N            90   \n4                 2.32         1.0                  N            75   \n...                ...         ...                ...           ...   \n2963788           4.32         NaN               None           113   \n2963789           2.66         NaN               None           114   \n2963790           6.80         NaN               None           142   \n2963791           3.84         NaN               None           229   \n2963792           6.85         NaN               None            91   \n\n         DOLocationID  payment_type  fare_amount  extra  mta_tax  tip_amount  \\\n0                 229             1        16.00   0.50      0.5        2.00   \n1                 229             1         6.00   0.50      0.5        1.96   \n2                 262             1         6.00   0.50      0.5        1.96   \n3                 260             2        21.00   3.00      0.5        0.00   \n4                 238             2        10.50   0.50      0.5        0.00   \n...               ...           ...          ...    ...      ...         ...   \n2963788           146             0        20.10   0.00      0.5        6.35   \n2963789            87             0        13.20   0.00      0.5        2.63   \n2963790           223             0        26.00   0.50      0.5        5.96   \n2963791             7             0        16.63   0.00      0.5        4.26   \n2963792            63             0        23.33   2.75      0.5        0.00   \n\n         tolls_amount  improvement_surcharge  total_amount  \\\n0                0.00                    0.3         21.80   \n1                0.00                    0.3         11.76   \n2                0.00                    0.3         11.76   \n3                6.55                    0.3         31.35   \n4                0.00                    0.3         11.80   \n...               ...                    ...           ...   \n2963788          6.55                    0.3         36.30   \n2963789          0.00                    0.3         19.13   \n2963790          0.00                    0.3         35.76   \n2963791          0.00                    0.3         24.19   \n2963792          0.00                    0.3         26.88   \n\n         congestion_surcharge  airport_fee  \n0                         2.5          0.0  \n1                         2.5          0.0  \n2                         2.5          0.0  \n3                         2.5          0.0  \n4                         0.0          0.0  \n...                       ...          ...  \n2963788                   NaN          NaN  \n2963789                   NaN          NaN  \n2963790                   NaN          NaN  \n2963791                   NaN          NaN  \n2963792                   NaN          NaN  \n\n[2963793 rows x 19 columns]",
      "text/html": "<div>\n<style scoped>\n    .dataframe tbody tr th:only-of-type {\n        vertical-align: middle;\n    }\n\n    .dataframe tbody tr th {\n        vertical-align: top;\n    }\n\n    .dataframe thead th {\n        text-align: right;\n    }\n</style>\n<table border=\"1\" class=\"dataframe\">\n  <thead>\n    <tr style=\"text-align: right;\">\n      <th></th>\n      <th>VendorID</th>\n      <th>tpep_pickup_datetime</th>\n      <th>tpep_dropoff_datetime</th>\n      <th>passenger_count</th>\n      <th>trip_distance</th>\n      <th>RatecodeID</th>\n      <th>store_and_fwd_flag</th>\n      <th>PULocationID</th>\n      <th>DOLocationID</th>\n      <th>payment_type</th>\n      <th>fare_amount</th>\n      <th>extra</th>\n      <th>mta_tax</th>\n      <th>tip_amount</th>\n      <th>tolls_amount</th>\n      <th>improvement_surcharge</th>\n      <th>total_amount</th>\n      <th>congestion_surcharge</th>\n      <th>airport_fee</th>\n    </tr>\n  </thead>\n  <tbody>\n    <tr>\n      <th>0</th>\n      <td>2</td>\n      <td>2021-09-01 06:04:34</td>\n      <td>2021-09-01 06:15:28</td>\n      <td>2.0</td>\n      <td>4.90</td>\n      <td>1.0</td>\n      <td>N</td>\n      <td>87</td>\n      <td>229</td>\n      <td>1</td>\n      <td>16.00</td>\n      <td>0.50</td>\n      <td>0.5</td>\n      <td>2.00</td>\n      <td>0.00</td>\n      <td>0.3</td>\n      <td>21.80</td>\n      <td>2.5</td>\n      <td>0.0</td>\n    </tr>\n    <tr>\n      <th>1</th>\n      <td>2</td>\n      <td>2021-09-01 06:26:31</td>\n      <td>2021-09-01 06:32:39</td>\n      <td>1.0</td>\n      <td>1.13</td>\n      <td>1.0</td>\n      <td>N</td>\n      <td>162</td>\n      <td>229</td>\n      <td>1</td>\n      <td>6.00</td>\n      <td>0.50</td>\n      <td>0.5</td>\n      <td>1.96</td>\n      <td>0.00</td>\n      <td>0.3</td>\n      <td>11.76</td>\n      <td>2.5</td>\n      <td>0.0</td>\n    </tr>\n    <tr>\n      <th>2</th>\n      <td>2</td>\n      <td>2021-09-01 06:36:15</td>\n      <td>2021-09-01 06:40:30</td>\n      <td>2.0</td>\n      <td>1.37</td>\n      <td>1.0</td>\n      <td>N</td>\n      <td>141</td>\n      <td>262</td>\n      <td>1</td>\n      <td>6.00</td>\n      <td>0.50</td>\n      <td>0.5</td>\n      <td>1.96</td>\n      <td>0.00</td>\n      <td>0.3</td>\n      <td>11.76</td>\n      <td>2.5</td>\n      <td>0.0</td>\n    </tr>\n    <tr>\n      <th>3</th>\n      <td>1</td>\n      <td>2021-09-01 00:00:15</td>\n      <td>2021-09-01 00:18:34</td>\n      <td>2.0</td>\n      <td>6.50</td>\n      <td>1.0</td>\n      <td>N</td>\n      <td>90</td>\n      <td>260</td>\n      <td>2</td>\n      <td>21.00</td>\n      <td>3.00</td>\n      <td>0.5</td>\n      <td>0.00</td>\n      <td>6.55</td>\n      <td>0.3</td>\n      <td>31.35</td>\n      <td>2.5</td>\n      <td>0.0</td>\n    </tr>\n    <tr>\n      <th>4</th>\n      <td>2</td>\n      <td>2021-09-01 00:44:54</td>\n      <td>2021-09-01 00:56:33</td>\n      <td>1.0</td>\n      <td>2.32</td>\n      <td>1.0</td>\n      <td>N</td>\n      <td>75</td>\n      <td>238</td>\n      <td>2</td>\n      <td>10.50</td>\n      <td>0.50</td>\n      <td>0.5</td>\n      <td>0.00</td>\n      <td>0.00</td>\n      <td>0.3</td>\n      <td>11.80</td>\n      <td>0.0</td>\n      <td>0.0</td>\n    </tr>\n    <tr>\n      <th>...</th>\n      <td>...</td>\n      <td>...</td>\n      <td>...</td>\n      <td>...</td>\n      <td>...</td>\n      <td>...</td>\n      <td>...</td>\n      <td>...</td>\n      <td>...</td>\n      <td>...</td>\n      <td>...</td>\n      <td>...</td>\n      <td>...</td>\n      <td>...</td>\n      <td>...</td>\n      <td>...</td>\n      <td>...</td>\n      <td>...</td>\n      <td>...</td>\n    </tr>\n    <tr>\n      <th>2963788</th>\n      <td>2</td>\n      <td>2021-09-30 23:09:00</td>\n      <td>2021-09-30 23:29:00</td>\n      <td>NaN</td>\n      <td>4.32</td>\n      <td>NaN</td>\n      <td>None</td>\n      <td>113</td>\n      <td>146</td>\n      <td>0</td>\n      <td>20.10</td>\n      <td>0.00</td>\n      <td>0.5</td>\n      <td>6.35</td>\n      <td>6.55</td>\n      <td>0.3</td>\n      <td>36.30</td>\n      <td>NaN</td>\n      <td>NaN</td>\n    </tr>\n    <tr>\n      <th>2963789</th>\n      <td>2</td>\n      <td>2021-09-30 23:39:01</td>\n      <td>2021-09-30 23:55:44</td>\n      <td>NaN</td>\n      <td>2.66</td>\n      <td>NaN</td>\n      <td>None</td>\n      <td>114</td>\n      <td>87</td>\n      <td>0</td>\n      <td>13.20</td>\n      <td>0.00</td>\n      <td>0.5</td>\n      <td>2.63</td>\n      <td>0.00</td>\n      <td>0.3</td>\n      <td>19.13</td>\n      <td>NaN</td>\n      <td>NaN</td>\n    </tr>\n    <tr>\n      <th>2963790</th>\n      <td>1</td>\n      <td>2021-09-30 23:46:16</td>\n      <td>2021-10-01 00:19:02</td>\n      <td>NaN</td>\n      <td>6.80</td>\n      <td>NaN</td>\n      <td>None</td>\n      <td>142</td>\n      <td>223</td>\n      <td>0</td>\n      <td>26.00</td>\n      <td>0.50</td>\n      <td>0.5</td>\n      <td>5.96</td>\n      <td>0.00</td>\n      <td>0.3</td>\n      <td>35.76</td>\n      <td>NaN</td>\n      <td>NaN</td>\n    </tr>\n    <tr>\n      <th>2963791</th>\n      <td>2</td>\n      <td>2021-09-30 23:29:00</td>\n      <td>2021-09-30 23:54:00</td>\n      <td>NaN</td>\n      <td>3.84</td>\n      <td>NaN</td>\n      <td>None</td>\n      <td>229</td>\n      <td>7</td>\n      <td>0</td>\n      <td>16.63</td>\n      <td>0.00</td>\n      <td>0.5</td>\n      <td>4.26</td>\n      <td>0.00</td>\n      <td>0.3</td>\n      <td>24.19</td>\n      <td>NaN</td>\n      <td>NaN</td>\n    </tr>\n    <tr>\n      <th>2963792</th>\n      <td>2</td>\n      <td>2021-09-30 23:00:39</td>\n      <td>2021-09-30 23:22:41</td>\n      <td>NaN</td>\n      <td>6.85</td>\n      <td>NaN</td>\n      <td>None</td>\n      <td>91</td>\n      <td>63</td>\n      <td>0</td>\n      <td>23.33</td>\n      <td>2.75</td>\n      <td>0.5</td>\n      <td>0.00</td>\n      <td>0.00</td>\n      <td>0.3</td>\n      <td>26.88</td>\n      <td>NaN</td>\n      <td>NaN</td>\n    </tr>\n  </tbody>\n</table>\n<p>2963793 rows × 19 columns</p>\n</div>"
     },
     "execution_count": 7,
     "metadata": {},
     "output_type": "execute_result"
    }
   ],
   "source": [
    "df"
   ],
   "metadata": {
    "collapsed": false
   }
  },
  {
   "cell_type": "code",
   "execution_count": 10,
   "outputs": [],
   "source": [
    "df.to_csv(\"data dls.csv\")"
   ],
   "metadata": {
    "collapsed": false
   }
  },
  {
   "cell_type": "code",
   "execution_count": null,
   "outputs": [],
   "source": [],
   "metadata": {
    "collapsed": false
   }
  }
 ],
 "metadata": {
  "kernelspec": {
   "display_name": "Python 3",
   "language": "python",
   "name": "python3"
  },
  "language_info": {
   "codemirror_mode": {
    "name": "ipython",
    "version": 2
   },
   "file_extension": ".py",
   "mimetype": "text/x-python",
   "name": "python",
   "nbconvert_exporter": "python",
   "pygments_lexer": "ipython2",
   "version": "2.7.6"
  }
 },
 "nbformat": 4,
 "nbformat_minor": 0
}
